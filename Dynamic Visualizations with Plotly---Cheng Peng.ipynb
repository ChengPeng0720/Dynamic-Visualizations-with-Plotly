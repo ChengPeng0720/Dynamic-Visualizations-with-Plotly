{
 "cells": [
  {
   "cell_type": "code",
   "execution_count": 55,
   "metadata": {},
   "outputs": [],
   "source": [
    "import numpy as np\n",
    "import math\n",
    "import pandas as pd\n",
    "import matplotlib.pyplot as plt\n",
    "%matplotlib inline\n",
    "import plotly\n",
    "import plotly.graph_objs as go\n",
    "import plotly.plotly as py\n",
    "from plotly.offline import download_plotlyjs, init_notebook_mode, plot, iplot\n",
    "import warnings\n",
    "warnings.filterwarnings('ignore')"
   ]
  },
  {
   "cell_type": "markdown",
   "metadata": {},
   "source": [
    "# Load Dataset"
   ]
  },
  {
   "cell_type": "code",
   "execution_count": 56,
   "metadata": {},
   "outputs": [
    {
     "data": {
      "text/html": [
       "<div>\n",
       "<style scoped>\n",
       "    .dataframe tbody tr th:only-of-type {\n",
       "        vertical-align: middle;\n",
       "    }\n",
       "\n",
       "    .dataframe tbody tr th {\n",
       "        vertical-align: top;\n",
       "    }\n",
       "\n",
       "    .dataframe thead th {\n",
       "        text-align: right;\n",
       "    }\n",
       "</style>\n",
       "<table border=\"1\" class=\"dataframe\">\n",
       "  <thead>\n",
       "    <tr style=\"text-align: right;\">\n",
       "      <th></th>\n",
       "      <th>date</th>\n",
       "      <th>symbol</th>\n",
       "      <th>open</th>\n",
       "      <th>close</th>\n",
       "      <th>low</th>\n",
       "      <th>high</th>\n",
       "      <th>volume</th>\n",
       "    </tr>\n",
       "  </thead>\n",
       "  <tbody>\n",
       "    <tr>\n",
       "      <th>0</th>\n",
       "      <td>2016-01-05 00:00:00</td>\n",
       "      <td>WLTW</td>\n",
       "      <td>123.430000</td>\n",
       "      <td>125.839996</td>\n",
       "      <td>122.309998</td>\n",
       "      <td>126.250000</td>\n",
       "      <td>2163600.0</td>\n",
       "    </tr>\n",
       "    <tr>\n",
       "      <th>1</th>\n",
       "      <td>2016-01-06 00:00:00</td>\n",
       "      <td>WLTW</td>\n",
       "      <td>125.239998</td>\n",
       "      <td>119.980003</td>\n",
       "      <td>119.940002</td>\n",
       "      <td>125.540001</td>\n",
       "      <td>2386400.0</td>\n",
       "    </tr>\n",
       "    <tr>\n",
       "      <th>2</th>\n",
       "      <td>2016-01-07 00:00:00</td>\n",
       "      <td>WLTW</td>\n",
       "      <td>116.379997</td>\n",
       "      <td>114.949997</td>\n",
       "      <td>114.930000</td>\n",
       "      <td>119.739998</td>\n",
       "      <td>2489500.0</td>\n",
       "    </tr>\n",
       "    <tr>\n",
       "      <th>3</th>\n",
       "      <td>2016-01-08 00:00:00</td>\n",
       "      <td>WLTW</td>\n",
       "      <td>115.480003</td>\n",
       "      <td>116.620003</td>\n",
       "      <td>113.500000</td>\n",
       "      <td>117.440002</td>\n",
       "      <td>2006300.0</td>\n",
       "    </tr>\n",
       "    <tr>\n",
       "      <th>4</th>\n",
       "      <td>2016-01-11 00:00:00</td>\n",
       "      <td>WLTW</td>\n",
       "      <td>117.010002</td>\n",
       "      <td>114.970001</td>\n",
       "      <td>114.089996</td>\n",
       "      <td>117.330002</td>\n",
       "      <td>1408600.0</td>\n",
       "    </tr>\n",
       "  </tbody>\n",
       "</table>\n",
       "</div>"
      ],
      "text/plain": [
       "                  date symbol        open       close         low        high  \\\n",
       "0  2016-01-05 00:00:00   WLTW  123.430000  125.839996  122.309998  126.250000   \n",
       "1  2016-01-06 00:00:00   WLTW  125.239998  119.980003  119.940002  125.540001   \n",
       "2  2016-01-07 00:00:00   WLTW  116.379997  114.949997  114.930000  119.739998   \n",
       "3  2016-01-08 00:00:00   WLTW  115.480003  116.620003  113.500000  117.440002   \n",
       "4  2016-01-11 00:00:00   WLTW  117.010002  114.970001  114.089996  117.330002   \n",
       "\n",
       "      volume  \n",
       "0  2163600.0  \n",
       "1  2386400.0  \n",
       "2  2489500.0  \n",
       "3  2006300.0  \n",
       "4  1408600.0  "
      ]
     },
     "execution_count": 56,
     "metadata": {},
     "output_type": "execute_result"
    }
   ],
   "source": [
    "NYSEprices = pd.read_csv('prices.csv')\n",
    "\n",
    "# View the first 5 rows of the dataset\n",
    "NYSEprices.head()"
   ]
  },
  {
   "cell_type": "code",
   "execution_count": 57,
   "metadata": {},
   "outputs": [
    {
     "data": {
      "text/html": [
       "<div>\n",
       "<style scoped>\n",
       "    .dataframe tbody tr th:only-of-type {\n",
       "        vertical-align: middle;\n",
       "    }\n",
       "\n",
       "    .dataframe tbody tr th {\n",
       "        vertical-align: top;\n",
       "    }\n",
       "\n",
       "    .dataframe thead th {\n",
       "        text-align: right;\n",
       "    }\n",
       "</style>\n",
       "<table border=\"1\" class=\"dataframe\">\n",
       "  <thead>\n",
       "    <tr style=\"text-align: right;\">\n",
       "      <th></th>\n",
       "      <th>date</th>\n",
       "      <th>symbol</th>\n",
       "      <th>open</th>\n",
       "      <th>close</th>\n",
       "      <th>low</th>\n",
       "      <th>high</th>\n",
       "      <th>volume</th>\n",
       "    </tr>\n",
       "  </thead>\n",
       "  <tbody>\n",
       "    <tr>\n",
       "      <th>851259</th>\n",
       "      <td>2016-12-30</td>\n",
       "      <td>ZBH</td>\n",
       "      <td>103.309998</td>\n",
       "      <td>103.199997</td>\n",
       "      <td>102.849998</td>\n",
       "      <td>103.930000</td>\n",
       "      <td>973800.0</td>\n",
       "    </tr>\n",
       "    <tr>\n",
       "      <th>851260</th>\n",
       "      <td>2016-12-30</td>\n",
       "      <td>ZION</td>\n",
       "      <td>43.070000</td>\n",
       "      <td>43.040001</td>\n",
       "      <td>42.689999</td>\n",
       "      <td>43.310001</td>\n",
       "      <td>1938100.0</td>\n",
       "    </tr>\n",
       "    <tr>\n",
       "      <th>851261</th>\n",
       "      <td>2016-12-30</td>\n",
       "      <td>ZTS</td>\n",
       "      <td>53.639999</td>\n",
       "      <td>53.529999</td>\n",
       "      <td>53.270000</td>\n",
       "      <td>53.740002</td>\n",
       "      <td>1701200.0</td>\n",
       "    </tr>\n",
       "    <tr>\n",
       "      <th>851262</th>\n",
       "      <td>2016-12-30 00:00:00</td>\n",
       "      <td>AIV</td>\n",
       "      <td>44.730000</td>\n",
       "      <td>45.450001</td>\n",
       "      <td>44.410000</td>\n",
       "      <td>45.590000</td>\n",
       "      <td>1380900.0</td>\n",
       "    </tr>\n",
       "    <tr>\n",
       "      <th>851263</th>\n",
       "      <td>2016-12-30 00:00:00</td>\n",
       "      <td>FTV</td>\n",
       "      <td>54.200001</td>\n",
       "      <td>53.630001</td>\n",
       "      <td>53.389999</td>\n",
       "      <td>54.480000</td>\n",
       "      <td>705100.0</td>\n",
       "    </tr>\n",
       "  </tbody>\n",
       "</table>\n",
       "</div>"
      ],
      "text/plain": [
       "                       date symbol        open       close         low  \\\n",
       "851259           2016-12-30    ZBH  103.309998  103.199997  102.849998   \n",
       "851260           2016-12-30   ZION   43.070000   43.040001   42.689999   \n",
       "851261           2016-12-30    ZTS   53.639999   53.529999   53.270000   \n",
       "851262  2016-12-30 00:00:00    AIV   44.730000   45.450001   44.410000   \n",
       "851263  2016-12-30 00:00:00    FTV   54.200001   53.630001   53.389999   \n",
       "\n",
       "              high     volume  \n",
       "851259  103.930000   973800.0  \n",
       "851260   43.310001  1938100.0  \n",
       "851261   53.740002  1701200.0  \n",
       "851262   45.590000  1380900.0  \n",
       "851263   54.480000   705100.0  "
      ]
     },
     "execution_count": 57,
     "metadata": {},
     "output_type": "execute_result"
    }
   ],
   "source": [
    "# View the last 5 rows of the dataset\n",
    "NYSEprices.tail()"
   ]
  },
  {
   "cell_type": "markdown",
   "metadata": {},
   "source": [
    "Based on the above preview of dataset and content from Munzner 2.6, we can find that the combination of \"date\" + \"symbol\" is unique for each item. So the \"date\" and \"symbol\" columns should be both labeled as keys. And all other columns can be values depending on the tasks. They are unsuitable as keys because they are quantitative, then there is nothing to prevent them from having the same values for multiple items.\n",
    "\n",
    "Key columns: date, symbol\n",
    "\n",
    "Value columns: open, close, low, high, volume"
   ]
  },
  {
   "cell_type": "markdown",
   "metadata": {},
   "source": [
    "# Visualization Task"
   ]
  },
  {
   "cell_type": "markdown",
   "metadata": {},
   "source": [
    "The task I create is to **discover** the **trends** for open and close price of stock WLTW over time. Based on the content from Visual Encoding lecture slides, the action of my task is to **analyze->consume->discover** data, and the targets are the **trends**. Thus we need to create visualizations to **discover** the data.   "
   ]
  },
  {
   "cell_type": "markdown",
   "metadata": {},
   "source": [
    "# Visualization 1"
   ]
  },
  {
   "cell_type": "code",
   "execution_count": 58,
   "metadata": {},
   "outputs": [
    {
     "data": {
      "text/html": [
       "<iframe id=\"igraph\" scrolling=\"no\" style=\"border:none;\" seamless=\"seamless\" src=\"https://plot.ly/~pccavs/1.embed\" height=\"700px\" width=\"900px\"></iframe>"
      ],
      "text/plain": [
       "<plotly.tools.PlotlyDisplay object>"
      ]
     },
     "execution_count": 58,
     "metadata": {},
     "output_type": "execute_result"
    }
   ],
   "source": [
    "# Take a subset with respect to stock WLTW\n",
    "WLTWdata = NYSEprices.loc[NYSEprices['symbol'] == 'WLTW']\n",
    "\n",
    "# Change format into year-month-day since all time are 00:00:00\n",
    "WLTWdata['date'] = pd.to_datetime(WLTWdata['date'])\n",
    "\n",
    "# Create Line Charts to discover the trends\n",
    "Date = pd.Series.tolist(WLTWdata['date'])\n",
    "openPrice = pd.Series.tolist(WLTWdata['open'])\n",
    "closePrice = pd.Series.tolist(WLTWdata['close'])\n",
    "\n",
    "trace1 = go.Scatter(\n",
    "    x = Date,\n",
    "    y = openPrice,\n",
    "    mode = 'markers + lines',\n",
    "    name = 'open price'\n",
    ")\n",
    "trace2 = go.Scatter(\n",
    "    x = Date,\n",
    "    y = closePrice,\n",
    "    mode = 'markers + lines',\n",
    "    name = 'close price'\n",
    ")\n",
    "layout = go.Layout(\n",
    "    title='Open and Close price of stock WLTW over time',\n",
    "    dragmode='select',\n",
    "    width=900,\n",
    "    height=700,\n",
    "    autosize=False,\n",
    "    hovermode='closest',\n",
    "    xaxis = dict(title = 'Date'),\n",
    "    yaxis = dict(title = 'Price'))\n",
    "data = [trace1, trace2]\n",
    "fig1 = go.Figure(data=data, layout=layout)\n",
    "py.iplot(fig1, filename='Line Chart-WLTW')"
   ]
  },
  {
   "cell_type": "markdown",
   "metadata": {},
   "source": [
    "My visualization 1 applies the Line Charts to show the open and close price of stock WLTW over time. As mentioned in previous part, the \"date\" and \"symbol\" columns both belong to keys, and one key is fixed in the task, which is \"symbol = WLTW\". Then the other key \"date\" is presented on x-axis and the values \"open price\", \"close price\" are encoded in plot with corresponding marks(points, lines) & channels(position, color). I choose to use Line Chart since it is suitable and effective for viewing the trend of continuous variables as time proceeds.\n",
    "\n",
    "The plot shows that there is an overall increase trend for both open and close price of stock WLTW through year 2016. And we can see that there is a large portion of overlap between the two price lines.\n",
    "\n",
    "My visualization adopts the default interactivity settings in Plotly library (hover, drag, zoom). Because of the overlap part in plot, the visualization enables viewers to check corresponding (x,y) coordinates when mouse hovering on a point. It also enables viewers to drag, zoom in then examine data for certain parts, helping them discover trend of prices within specific time ranges.     "
   ]
  },
  {
   "cell_type": "markdown",
   "metadata": {},
   "source": [
    "# Visualization 2"
   ]
  },
  {
   "cell_type": "code",
   "execution_count": 60,
   "metadata": {},
   "outputs": [
    {
     "name": "stdout",
     "output_type": "stream",
     "text": [
      "This is the format of your plot grid:\n",
      "[ (1,1) x1,y1 ]\n",
      "[ (2,1) x2,y2 ]\n",
      "\n"
     ]
    },
    {
     "data": {
      "text/html": [
       "<iframe id=\"igraph\" scrolling=\"no\" style=\"border:none;\" seamless=\"seamless\" src=\"https://plot.ly/~pccavs/5.embed\" height=\"525px\" width=\"100%\"></iframe>"
      ],
      "text/plain": [
       "<plotly.tools.PlotlyDisplay object>"
      ]
     },
     "execution_count": 60,
     "metadata": {},
     "output_type": "execute_result"
    }
   ],
   "source": [
    "# Create Parallel Bar Charts to discover the trends\n",
    "from plotly import tools\n",
    "\n",
    "trace1 = go.Bar(\n",
    "    x=Date,\n",
    "    y=openPrice,\n",
    "    name='open price'\n",
    ")\n",
    "trace2 = go.Bar(\n",
    "    x=Date,\n",
    "    y=closePrice,\n",
    "    name='close price'\n",
    ")\n",
    "\n",
    "data = [trace1, trace2]\n",
    "\n",
    "fig2 = tools.make_subplots(rows=2, cols=1) # Create two subplots for comparison\n",
    "\n",
    "fig2.append_trace(trace1, 1, 1)\n",
    "fig2.append_trace(trace2, 2, 1)\n",
    "fig2['layout'].update(\n",
    "    title = 'Open and Close price of stock WLTW (grouped by weeks)',\n",
    "    hovermode='closest'\n",
    ")\n",
    "fig2['layout']['xaxis1'].update(title='Date')\n",
    "fig2['layout']['yaxis1'].update(title='Price')\n",
    "fig2['layout']['xaxis2'].update(title='Date')\n",
    "fig2['layout']['yaxis2'].update(title='Price')\n",
    "py.iplot(fig2, filename='Parallel Bar Charts-WLTW')"
   ]
  },
  {
   "cell_type": "markdown",
   "metadata": {},
   "source": [
    "My visualization 2 applies the Parallel Bar Charts to separately show the open and close price of stock WLTW over time. Since the stock exchange market is closed during weekends, then the price data are naturally grouped by weeks (all legal business days in a week) when we plot them in a Bar Chart, where the gaps represent the weekends. So it becomes convenient to discover the weekly price trends, which has more practical meaning to certain viewers. Also the Parallel Bar Charts can show clear comparison between open and close price as well as avoid overlap that we saw in previous plot.\n",
    "\n",
    "The plot shows that if the open price presents an overall increase/decrease trend in a week, then the close price commonly presents the same overall trend in that week.\n",
    "\n",
    "My visualization adopts the default interactivity settings in Plotly library (hover, zoom, etc.). Because bar chart doesn't show specific price values, the visualization enables viewers to check corresponding [date, price] information when mouse hovering on a bar. It also enables viewers to zoom in then examine data for certain parts, helping them better discover or compare the weekly trend of two prices.\n",
    "\n"
   ]
  },
  {
   "cell_type": "code",
   "execution_count": null,
   "metadata": {},
   "outputs": [],
   "source": []
  }
 ],
 "metadata": {
  "kernelspec": {
   "display_name": "Python 3",
   "language": "python",
   "name": "python3"
  },
  "language_info": {
   "codemirror_mode": {
    "name": "ipython",
    "version": 3
   },
   "file_extension": ".py",
   "mimetype": "text/x-python",
   "name": "python",
   "nbconvert_exporter": "python",
   "pygments_lexer": "ipython3",
   "version": "3.6.5"
  }
 },
 "nbformat": 4,
 "nbformat_minor": 2
}
